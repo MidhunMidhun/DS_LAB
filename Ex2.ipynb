{
 "cells": [
  {
   "cell_type": "code",
   "execution_count": 1,
   "id": "6229dba1-3fe3-4095-aac0-7212f10ac192",
   "metadata": {},
   "outputs": [
    {
     "name": "stdout",
     "output_type": "stream",
     "text": [
      "enter size of first matrix\n"
     ]
    },
    {
     "name": "stdin",
     "output_type": "stream",
     "text": [
      " 2\n",
      " 2\n"
     ]
    },
    {
     "name": "stdout",
     "output_type": "stream",
     "text": [
      "Enter the elements\n"
     ]
    },
    {
     "name": "stdin",
     "output_type": "stream",
     "text": [
      " 1\n",
      " 2\n",
      " 3\n",
      " 4\n"
     ]
    },
    {
     "name": "stdout",
     "output_type": "stream",
     "text": [
      "enter size of second matrix\n"
     ]
    },
    {
     "name": "stdin",
     "output_type": "stream",
     "text": [
      " 2\n",
      " 2\n"
     ]
    },
    {
     "name": "stdout",
     "output_type": "stream",
     "text": [
      "Enter the elements\n"
     ]
    },
    {
     "name": "stdin",
     "output_type": "stream",
     "text": [
      " 2\n",
      " 3\n",
      " 4\n",
      " 5\n"
     ]
    },
    {
     "name": "stdout",
     "output_type": "stream",
     "text": [
      "The first matrix is\n",
      "1 2 \n",
      "3 4 \n",
      "The sercond matrix is\n",
      "2 3 \n",
      "4 5 \n",
      "Dot product \n",
      " [[10 13]\n",
      " [22 29]]\n"
     ]
    }
   ],
   "source": [
    "#dot product----\n",
    "import numpy as np\n",
    "#first matrix values\n",
    "print(\"enter size of first matrix\")\n",
    "A=[]\n",
    "x=int(input())\n",
    "y=int(input())\n",
    "print(\"Enter the elements\")\n",
    "for i in range(x):\n",
    "    row=[]\n",
    "    for j in range(y):\n",
    "        row.append(int(input()))\n",
    "    A.append(row) \n",
    "#second matrix values\n",
    "B=[]\n",
    "print(\"enter size of second matrix\")\n",
    "a=int(input())\n",
    "b=int(input())\n",
    "print(\"Enter the elements\")\n",
    "for i in range(a):\n",
    "    row=[]\n",
    "    for j in range(b):\n",
    "        row.append(int(input()))\n",
    "    B.append(row) \n",
    "print(\"The first matrix is\")\n",
    "for i in range(x):\n",
    "    for j in range(y):\n",
    "        print(A[i][j],end=\" \")\n",
    "    print()\n",
    "print(\"The sercond matrix is\")\n",
    "for i in range(a):\n",
    "    for j in range(b):\n",
    "        print(B[i][j],end=\" \")\n",
    "    print()\n",
    "res= np.dot(A,B)\n",
    "print(\"Dot product \\n\",res)\n"
   ]
  },
  {
   "cell_type": "code",
   "execution_count": 2,
   "id": "23a6b867-0663-4c1e-9336-f8394b2f6b62",
   "metadata": {},
   "outputs": [
    {
     "name": "stdout",
     "output_type": "stream",
     "text": [
      "enter size of matrix\n"
     ]
    },
    {
     "name": "stdin",
     "output_type": "stream",
     "text": [
      " 2\n",
      " 2\n"
     ]
    },
    {
     "name": "stdout",
     "output_type": "stream",
     "text": [
      "Enter the elements\n"
     ]
    },
    {
     "name": "stdin",
     "output_type": "stream",
     "text": [
      " 1\n",
      " 2\n",
      " 3\n",
      " 4\n"
     ]
    },
    {
     "name": "stdout",
     "output_type": "stream",
     "text": [
      "The matrix is\n",
      "1 2 \n",
      "3 4 \n",
      "The transpose is \n",
      " [[1 3]\n",
      " [2 4]]\n"
     ]
    }
   ],
   "source": [
    "#transpose---------\n",
    "import numpy as np\n",
    "# matrix values\n",
    "print(\"enter size of matrix\")\n",
    "A=[]\n",
    "x=int(input())\n",
    "y=int(input())\n",
    "print(\"Enter the elements\")\n",
    "for i in range(x):\n",
    "    row=[]\n",
    "    for j in range(y):\n",
    "        row.append(int(input()))\n",
    "    A.append(row) \n",
    "print(\"The matrix is\")\n",
    "for i in range(x):\n",
    "    for j in range(y):\n",
    "        print(A[i][j],end=\" \")\n",
    "    print()\n",
    "res=np.transpose(A)\n",
    "print(\"The transpose is \\n\",res)"
   ]
  },
  {
   "cell_type": "code",
   "execution_count": 3,
   "id": "05e37965-b2b7-4020-aaf8-be30991dbfd5",
   "metadata": {},
   "outputs": [
    {
     "name": "stdout",
     "output_type": "stream",
     "text": [
      "enter size of matrix\n"
     ]
    },
    {
     "name": "stdin",
     "output_type": "stream",
     "text": [
      " 2\n",
      " 2\n"
     ]
    },
    {
     "name": "stdout",
     "output_type": "stream",
     "text": [
      "Enter the elements\n"
     ]
    },
    {
     "name": "stdin",
     "output_type": "stream",
     "text": [
      " 1\n",
      " 2\n",
      " 3\n",
      " 4\n"
     ]
    },
    {
     "name": "stdout",
     "output_type": "stream",
     "text": [
      "The matrix is\n",
      "1 2 \n",
      "3 4 \n",
      "The trace is \n",
      " 5\n"
     ]
    }
   ],
   "source": [
    "#trace----\n",
    "import numpy as np\n",
    "# matrix values\n",
    "print(\"enter size of matrix\")\n",
    "A=[]\n",
    "x=int(input())\n",
    "y=int(input())\n",
    "print(\"Enter the elements\")\n",
    "for i in range(x):\n",
    "    row=[]\n",
    "    for j in range(y):\n",
    "        row.append(int(input()))\n",
    "    A.append(row) \n",
    "print(\"The matrix is\")\n",
    "for i in range(x):\n",
    "    for j in range(y):\n",
    "        print(A[i][j],end=\" \")\n",
    "    print()\n",
    "res=np.trace(A)\n",
    "print(\"The trace is \\n\",res)"
   ]
  },
  {
   "cell_type": "code",
   "execution_count": 4,
   "id": "555a4afa-0a74-4632-9b87-62f2509d22b0",
   "metadata": {},
   "outputs": [
    {
     "name": "stdout",
     "output_type": "stream",
     "text": [
      "enter size of matrix\n"
     ]
    },
    {
     "name": "stdin",
     "output_type": "stream",
     "text": [
      " 2\n",
      " 2\n"
     ]
    },
    {
     "name": "stdout",
     "output_type": "stream",
     "text": [
      "Enter the elements\n"
     ]
    },
    {
     "name": "stdin",
     "output_type": "stream",
     "text": [
      " 1\n",
      " 2\n",
      " 3\n",
      " 4\n"
     ]
    },
    {
     "name": "stdout",
     "output_type": "stream",
     "text": [
      "The matrix is\n",
      "1 2 \n",
      "3 4 \n",
      "The rank is \n",
      " 2\n"
     ]
    }
   ],
   "source": [
    "#rank---------\n",
    "import numpy as np\n",
    "# matrix values\n",
    "print(\"enter size of matrix\")\n",
    "A=[]\n",
    "x=int(input())\n",
    "y=int(input())\n",
    "print(\"Enter the elements\")\n",
    "for i in range(x):\n",
    "    row=[]\n",
    "    for j in range(y):\n",
    "        row.append(int(input()))\n",
    "    A.append(row) \n",
    "print(\"The matrix is\")\n",
    "for i in range(x):\n",
    "    for j in range(y):\n",
    "        print(A[i][j],end=\" \")\n",
    "    print()\n",
    "res=np.linalg.matrix_rank(A)\n",
    "print(\"The rank is \\n\",res)"
   ]
  },
  {
   "cell_type": "code",
   "execution_count": 5,
   "id": "0b185d83-9573-4cf9-85bb-de220f0633f1",
   "metadata": {},
   "outputs": [
    {
     "name": "stdout",
     "output_type": "stream",
     "text": [
      "enter size of matrix\n"
     ]
    },
    {
     "name": "stdin",
     "output_type": "stream",
     "text": [
      " 2\n",
      " 2\n"
     ]
    },
    {
     "name": "stdout",
     "output_type": "stream",
     "text": [
      "Enter the elements\n"
     ]
    },
    {
     "name": "stdin",
     "output_type": "stream",
     "text": [
      " 1\n",
      " 2\n",
      " 3\n",
      " 4\n"
     ]
    },
    {
     "name": "stdout",
     "output_type": "stream",
     "text": [
      "The matrix is\n",
      "1 2 \n",
      "3 4 \n",
      "The determinant is \n",
      " -2.0000000000000004\n"
     ]
    }
   ],
   "source": [
    "#determinant\n",
    "import numpy as np\n",
    "# matrix values\n",
    "print(\"enter size of matrix\")\n",
    "A=[]\n",
    "x=int(input())\n",
    "y=int(input())\n",
    "print(\"Enter the elements\")\n",
    "for i in range(x):\n",
    "    row=[]\n",
    "    for j in range(y):\n",
    "        row.append(int(input()))\n",
    "    A.append(row) \n",
    "print(\"The matrix is\")\n",
    "for i in range(x):\n",
    "    for j in range(y):\n",
    "        print(A[i][j],end=\" \")\n",
    "    print()\n",
    "res=np.linalg.det(A)\n",
    "print(\"The determinant is \\n\",res)"
   ]
  },
  {
   "cell_type": "code",
   "execution_count": 6,
   "id": "8a815b50-01a9-4878-b8c8-4c722a1856db",
   "metadata": {},
   "outputs": [
    {
     "name": "stdout",
     "output_type": "stream",
     "text": [
      "enter size of matrix\n"
     ]
    },
    {
     "name": "stdin",
     "output_type": "stream",
     "text": [
      " 2\n",
      " 2\n"
     ]
    },
    {
     "name": "stdout",
     "output_type": "stream",
     "text": [
      "Enter the elements\n"
     ]
    },
    {
     "name": "stdin",
     "output_type": "stream",
     "text": [
      " 1\n",
      " 2\n",
      " 3\n",
      " 4\n"
     ]
    },
    {
     "name": "stdout",
     "output_type": "stream",
     "text": [
      "The matrix is\n",
      "1 2 \n",
      "3 4 \n",
      "The inverse is \n",
      " [[-2.   1. ]\n",
      " [ 1.5 -0.5]]\n"
     ]
    }
   ],
   "source": [
    "#inverse----------\n",
    "import numpy as np\n",
    "# matrix values\n",
    "print(\"enter size of matrix\")\n",
    "A=[]\n",
    "x=int(input())\n",
    "y=int(input())\n",
    "print(\"Enter the elements\")\n",
    "for i in range(x):\n",
    "    row=[]\n",
    "    for j in range(y):\n",
    "        row.append(int(input()))\n",
    "    A.append(row) \n",
    "print(\"The matrix is\")\n",
    "for i in range(x):\n",
    "    for j in range(y):\n",
    "        print(A[i][j],end=\" \")\n",
    "    print()\n",
    "res=np.linalg.inv(A)\n",
    "print(\"The inverse is \\n\",res)"
   ]
  },
  {
   "cell_type": "code",
   "execution_count": 8,
   "id": "256e358c-ce57-47e0-aede-3be96fecb387",
   "metadata": {},
   "outputs": [
    {
     "name": "stdout",
     "output_type": "stream",
     "text": [
      "enter size of matrix\n"
     ]
    },
    {
     "name": "stdin",
     "output_type": "stream",
     "text": [
      " 2\n",
      " 2\n"
     ]
    },
    {
     "name": "stdout",
     "output_type": "stream",
     "text": [
      "Enter the elements\n"
     ]
    },
    {
     "name": "stdin",
     "output_type": "stream",
     "text": [
      " 1\n",
      " 2\n",
      " 3\n",
      " 4\n"
     ]
    },
    {
     "name": "stdout",
     "output_type": "stream",
     "text": [
      "The matrix is\n",
      "1 2 \n",
      "3 4 \n",
      "The eigen value is \n",
      " [-0.37228132  5.37228132]\n",
      "The eigen vector is \n",
      " [[-0.82456484 -0.41597356]\n",
      " [ 0.56576746 -0.90937671]]\n"
     ]
    }
   ],
   "source": [
    "#eigen values and eigen vectors\n",
    "import numpy as np\n",
    "# matrix values\n",
    "print(\"enter size of matrix\")\n",
    "A=[]\n",
    "x=int(input())\n",
    "y=int(input())\n",
    "print(\"Enter the elements\")\n",
    "for i in range(x):\n",
    "    row=[]\n",
    "    for j in range(y):\n",
    "        row.append(int(input()))\n",
    "    A.append(row) \n",
    "print(\"The matrix is\")\n",
    "for i in range(x):\n",
    "    for j in range(y):\n",
    "        print(A[i][j],end=\" \")\n",
    "    print()\n",
    "w,v=np.linalg.eig(A)\n",
    "print(\"The eigen value is \\n\",w)\n",
    "print(\"The eigen vector is \\n\",v)"
   ]
  },
  {
   "cell_type": "code",
   "execution_count": null,
   "id": "52107159-9d3f-46e1-a53a-e3244fa16527",
   "metadata": {},
   "outputs": [],
   "source": []
  }
 ],
 "metadata": {
  "kernelspec": {
   "display_name": "Python 3 (ipykernel)",
   "language": "python",
   "name": "python3"
  },
  "language_info": {
   "codemirror_mode": {
    "name": "ipython",
    "version": 3
   },
   "file_extension": ".py",
   "mimetype": "text/x-python",
   "name": "python",
   "nbconvert_exporter": "python",
   "pygments_lexer": "ipython3",
   "version": "3.8.13"
  }
 },
 "nbformat": 4,
 "nbformat_minor": 5
}
